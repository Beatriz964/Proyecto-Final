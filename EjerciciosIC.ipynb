{
  "cells": [
    {
      "cell_type": "markdown",
      "metadata": {
        "id": "lU2x5qpOHS_Y"
      },
      "source": [
        "# Tarea. Intervalos de confianza"
      ]
    },
    {
      "cell_type": "markdown",
      "source": [
        "**Ejercicio 1**\n",
        "\n",
        "En una encuesta de una Universidad, 225 estudiantes son seleccionados al azar de los que toman cálculo y se les pregunta si cálculo es su materia favorita. 100 estudiantes responden que el cálculo es su materia favorita. Proporcione un intervalo de confianza del 95 %  para la proporción de todos los estudiantes que toman cálculo y que la consideran su materia favorita.  "
      ],
      "metadata": {
        "id": "ilWoFoyh2-DN"
      }
    },
    {
      "cell_type": "markdown",
      "source": [
        "**Solución Ejercicio 1**\n",
        "\n",
        "Datos:\n",
        "\n",
        "  Tamaño de la muestra ($n$) = 225\n",
        "\n",
        "  Número de éxitos en la muestra ($x$) = 100\n",
        "\n",
        "  Proporción muestral ($\\hat{p}$) = $x/n = 100/225 \\approx 0.4444$\n",
        "\n",
        "  Nivel de confianza = 95%\n",
        "\n",
        "Valor Critico:\n",
        "\n",
        "  Nivel de significancia ($\\alpha$) = $1 - 0.95 = 0.05$\n",
        "\n",
        "  $\\alpha/2 = 0.05 / 2 = 0.025$ x\n",
        "\n",
        "  Valor crítico $z_{\\alpha /2} = z_{0.025} = 1.96$\n",
        "\n",
        "Error estándar\n",
        "\n",
        "  $\\sigma_{\\hat{p}} = \\sqrt{\\frac{0.4444(1-0.4444)}{225}} = \\sqrt{\\frac{0.4444 \\times 0.5556}{225}} \\approx \\sqrt{\\frac{0.2469}{225}} \\approx \\sqrt{0.001097} \\approx 0.0331$\n",
        "\n",
        "Margen de error\n",
        "\n",
        "  Margen de error (ME) = $z_{\\alpha/2} \\times \\sigma_{\\hat{p}}$\n",
        "\n",
        "  ME = $1.96 \\times 0.0331 \\approx 0.0649$\n",
        "\n",
        "Intervalo de confianza\n",
        "  Intervalo de confianza (IC) = $\\hat{p} \\pm ME$\n",
        "\n",
        "  IC = $0.4444 \\pm 0.0649$\n",
        "\n",
        "  Límite inferior = $0.4444 - 0.0649 = 0.3795$\n",
        "\n",
        "  Límite superior = $0.4444 + 0.0649 = 0.5093$\n",
        "\n",
        "Por lo tanto, el intervalo de confianza del 95 % para la proporción de todos los estudiantes que toman cálculo y que la consideran su materia favorita es aproximadamente **(0.3795, 0.5093)**."
      ],
      "metadata": {
        "id": "cYfEsgxG5Jo7"
      }
    },
    {
      "cell_type": "markdown",
      "source": [
        "**Ejercicio 2**\n",
        "\n",
        "Los datos $1.2,\\ 2.1,\\ 2.3,\\ 1.9,\\ 3.0,\\ 1.5,\\ 2.8,\\ 2.4,\\ 1.7,\\ 2.6,\\ 2.0,\\ 1.8,\\ 3.1,\\ 2.2,\\ 2.5$ se toman a partir de una distribución normal $N(\\mu,\\sigma^2)$ con $\\mu$ desconocida.\n",
        "\n",
        "**a)** Encuentra un intervalo de confianza al nivel de $90\\%$ para $\\mu$, dado que $\\sigma =2$.\n",
        "\n",
        "**b)** Encuentra un intervalo de confianza al nivel de $90\\%$ para $\\mu$.\n",
        "\n",
        "**c)** Encuentra un intervalo de confianza al nivel de $90\\%$ para $\\sigma^2$."
      ],
      "metadata": {
        "id": "tOUQdE8l-AvI"
      }
    },
    {
      "cell_type": "markdown",
      "source": [
        "**Solución ejercicio 2 a)**\n",
        "\n",
        "\n",
        "\n",
        "Media muestral ($\\bar{x}$) = 2.34\n",
        "\n",
        "Desviación estándar poblacional ($\\sigma$) = 2\n",
        "\n",
        "Tamaño de la muestra ($n$) = 15\n",
        "\n",
        "Nivel de confianza = 90% ($\\alpha = 0.10$, $\\alpha/2 = 0.05$)\n",
        "\n",
        "Valor crítico $z_{0.05} \\approx 1.645$\n",
        "\n",
        "El intervalo de confianza es:\n",
        "$$ \\bar{x} \\pm z_{\\alpha/2} \\frac{\\sigma}{\\sqrt{n}} $$\n",
        "$$ 2.34 \\pm 1.645 \\frac{2}{\\sqrt{15}} $$\n",
        "$$ 2.34 \\pm 1.645 \\times 0.5164 $$\n",
        "$$ 2.34 \\pm 0.8495 $$\n",
        "\n",
        "**Intervalo de confianza al 90% para $\\mu$ (con $\\sigma = 2$): (1.4905, 3.1895)**\n",
        "\n"
      ],
      "metadata": {
        "id": "d8K0tjOR-Lac"
      }
    },
    {
      "cell_type": "markdown",
      "source": [
        "**Solución ejercicio 2 b)**\n",
        "\n",
        "Media muestral ($\\bar{x}$) = 2.34\n",
        "Desviación estándar muestral ($s$) $\\approx$ 0.5616\n",
        "Tamaño de la muestra ($n$) = 15\n",
        "Grados de libertad ($gl$) = $n - 1 = 14$\n",
        "Nivel de confianza = 90% ($\\alpha = 0.10$, $\\alpha/2 = 0.05$)\n",
        "Valor crítico $t_{0.05, 14} \\approx 1.761$\n",
        "\n",
        "El intervalo de confianza es:\n",
        "$$ \\bar{x} \\pm t_{\\alpha/2, n-1} \\frac{s}{\\sqrt{n}} $$\n",
        "$$ 2.34 \\pm 1.761 \\frac{0.5616}{\\sqrt{15}} $$\n",
        "$$ 2.34 \\pm 1.761 \\times 0.1450 $$\n",
        "$$ 2.34 \\pm 0.2553 $$\n",
        "\n",
        "**Intervalo de confianza al 90% para $\\mu$: (2.0847, 2.5953)**\n"
      ],
      "metadata": {
        "id": "OR2SiomW_Qqs"
      }
    },
    {
      "cell_type": "markdown",
      "source": [
        "**Solución ejercicio 2 c)**\n",
        "\n",
        "Tamaño de la muestra ($n$) = 15\n",
        "\n",
        "Varianza muestral ($s^2$) $\\approx$ 0.3154\n",
        "\n",
        "Grados de libertad ($gl$) = $n - 1 = 14$\n",
        "\n",
        "Nivel de confianza = 90% ($\\alpha = 0.10$)\n",
        "\n",
        "Valores críticos de chi-cuadrado:\n",
        "    * $\\chi^2_{1-\\alpha/2, n-1} = \\chi^2_{0.95, 14} \\approx 6.571$\n",
        "    * $\\chi^2_{\\alpha/2, n-1} = \\chi^2_{0.05, 14} \\approx 23.685$\n",
        "\n",
        "El intervalo de confianza para $\\sigma^2$ es:\n",
        "$$ \\left( \\frac{(n-1)s^2}{\\chi^2_{\\alpha/2, n-1}}, \\frac{(n-1)s^2}{\\chi^2_{1-\\alpha/2, n-1}} \\right) $$\n",
        "$$ \\left( \\frac{(14)(0.3154)}{23.685}, \\frac{(14)(0.3154)}{6.571} \\right) $$\n",
        "$$ \\left( \\frac{4.4156}{23.685}, \\frac{4.4156}{6.571} \\right) $$\n",
        "$$ (0.1864, 0.6720) $$\n",
        "\n",
        "**Intervalo de confianza al 90% para $\\sigma^2$: (0.1864, 0.6720)**"
      ],
      "metadata": {
        "id": "wqDsOjel_TcI"
      }
    },
    {
      "cell_type": "markdown",
      "source": [
        "**Ejercicio 3**\n",
        "\n",
        "Los ingresos semanales promedio de las personas que trabajan en varias industrias aparecieron en el *The New York Times 1988 Almanac*.  \n",
        "Esos ingresos para quienes trabajan en los servicios fueron de $\\$369$. Suponga que este resultado se basó en una muestra de 250 personas dedicadas a los servicios y que la desviación estándar de la muestra fue de $\\$50$. Calcula el intervalo de confianza del 95% para la media de la población de ingresos semanales de personas que trabajan en los servicios."
      ],
      "metadata": {
        "id": "RxbXtqAd_sQA"
      }
    },
    {
      "cell_type": "markdown",
      "source": [
        "**Solución Ejercicio 3**\n",
        "\n",
        "\n",
        "**Datos:**\n",
        "\n",
        "Media muestral ($\\bar{x}$) = $369\n",
        "\n",
        "Desviación estándar de la muestra ($s$) = $50\n",
        "\n",
        "Tamaño de la muestra ($n$) = 250\n",
        "\n",
        "Nivel de confianza = 95%\n",
        "\n",
        "**Valor crítico:**\n",
        "\n",
        "Nivel de significancia ($\\alpha$) = $1 - 0.95 = 0.05$\n",
        "\n",
        "$\\alpha/2 = 0.05 / 2 = 0.025$\n",
        "\n",
        "Como el tamaño de la muestra es grande ($n \\ge 30$), podemos utilizar la distribución normal estándar para aproximar el valor crítico.\n",
        "\n",
        "El valor crítico $z_{\\alpha/2} = z_{0.025} \\approx 1.96$ (de la distribución normal estándar)\n",
        "\n",
        "**Error estándar de la media:**\n",
        "\n",
        "El error estándar de la media ($\\sigma_{\\bar{x}}$) se estima utilizando la desviación estándar de la muestra:\n",
        "\n",
        "$$ \\sigma_{\\bar{x}} \\approx \\frac{s}{\\sqrt{n}} $$\n",
        "$$ \\sigma_{\\bar{x}} \\approx \\frac{50}{\\sqrt{250}} $$\n",
        "$$ \\sigma_{\\bar{x}} \\approx \\frac{50}{15.8114} \\approx 3.1623 $$\n",
        "\n",
        "**Margen de error:**\n",
        "El margen de error (ME) se calcula multiplicando el valor crítico por el error estándar:\n",
        "    $$ ME = z_{\\alpha/2} \\times \\sigma_{\\bar{x}} $$\n",
        "    $$ ME \\approx 1.96 \\times 3.1623 $$\n",
        "    $$ ME \\approx 6.20 $$\n",
        "\n",
        "**Intervalo de confianza:**\n",
        "    $$ IC = \\bar{x} \\pm ME $$\n",
        "    $$ IC = 369 \\pm 6.20 $$\n",
        "\n",
        "Límite inferior = $369 - 6.20 = 362.80$\n",
        "\n",
        "Límite superior = $369 + 6.20 = 375.20$\n",
        "\n",
        "Con un nivel de confianza del 95%, el intervalo de confianza para la media de la población de ingresos semanales de personas que trabajan en los servicios es aproximadamente **($362.80, $375.20)**."
      ],
      "metadata": {
        "id": "ieKkSk9G_xas"
      }
    },
    {
      "cell_type": "markdown",
      "source": [
        "**Ejercicio 4**\n",
        "\n",
        "En un estudio de préstamos a estudiantes, el Departamento de Educación informó que los beneficiarios del fondo Stafford Loan deberían un promedio de \\$12,658 al recibirse (*USA Today*, 5 de abril de 1995). Suponga que este promedio de deuda se basa en una muestra de 480 préstamos a estudiantes y que la desviación estándar de la población de las deudas al recibirse es \\$2,000.\n",
        "\n",
        "**a)** Determina un estimado de confianza del **90%** del promedio poblacional de la deuda.\n",
        "\n",
        "**b)** Determina un estimado de confianza del **95%** del promedio poblacional de la deuda.\n",
        "\n",
        "**c)** Determina un estimado de confianza del **99%** del promedio poblacional de la deuda.\n",
        "\n",
        "**d)** Describe lo que sucede con el **ancho del intervalo de confianza** a medida que se **aumenta el nivel de confianza**. ¿Parece razonable? Explica tu respuesta."
      ],
      "metadata": {
        "id": "wazPMy8H_0Ar"
      }
    },
    {
      "cell_type": "markdown",
      "source": [
        "**Solución ejercicio 4**\n",
        "\n",
        "**a) Determina un estimado de confianza del 90% del promedio poblacional de la deuda.**\n",
        "\n",
        "* Nivel de confianza = 90% (<span class=\"math-inline\">\\\\alpha \\= 1 \\- 0\\.90 \\= 0\\.10</span>, <span class=\"math-inline\">\\\\alpha/2 \\= 0\\.05</span>)\n",
        "\n",
        "* Valor crítico <span class=\"math-inline\">z\\_\\{\\\\alpha/2\\} \\= z\\_\\{0\\.05\\} \\\\approx 1\\.645</span>\n",
        "\n",
        "Error estándar de la media:\n",
        "$$ \\sigma_{\\bar{x}} = \\frac{\\sigma}{\\sqrt{n}} = \\frac{2000}{\\sqrt{480}} = \\frac{2000}{21.9089} \\approx 91.287 $$\n",
        "\n",
        "Margen de error:\n",
        "$$ ME = z_{\\alpha/2} \\times \\sigma_{\\bar{x}} = 1.645 \\times 91.287 \\approx 150.18 $$\n",
        "\n",
        "Intervalo de confianza del 90%:\n",
        "\n",
        "$$ \\bar{x} \\pm ME = 12658 \\pm 150.18 $$\n",
        "**Intervalo de confianza del 90%: ($12,507.82, <span class=\"math-inline\">12,808\\.18\\)\n",
        "\n",
        "\n",
        "\n",
        "**b\\) Determina un estimado de confianza del 95% del promedio poblacional de la deuda\\.**\n",
        "\n",
        "\\* Nivel de confianza \\= 95% \\(</span>\\alpha = 1 - 0.95 = 0.05$, <span class=\"math-inline\">\\\\alpha/2 \\= 0\\.025</span>)\n",
        "* Valor crítico <span class=\"math-inline\">z\\_\\{\\\\alpha/2\\} \\= z\\_\\{0\\.025\\} \\\\approx 1\\.96</span>\n",
        "\n",
        "Error estándar de la media:\n",
        "$$ \\sigma_{\\bar{x}} \\approx 91.287 $$\n",
        "\n",
        "Margen de error:\n",
        "$$ ME = z_{\\alpha/2} \\times \\sigma_{\\bar{x}} = 1.96 \\times 91.287 \\approx 179.02 $$\n",
        "\n",
        "Intervalo de confianza del 95%:\n",
        "$$ \\bar{x} \\pm ME = 12658 \\pm 179.02 $$\n",
        "\n",
        "**Intervalo de confianza del 95%: ($12,478.98, <span class=\"math-inline\">12,837\\.02\\)\n",
        "\n",
        "\n",
        "\n",
        "\n",
        "\n",
        "\\*\\*c\\) Determina un estimado de confianza del 99% del promedio poblacional de la deuda\\.\\*\\*\n",
        "\\* Nivel de confianza \\= 99% \\(</span>\\alpha = 1 - 0.99 = 0.01$, <span class=\"math-inline\">\\\\alpha/2 \\= 0\\.005</span>)\n",
        "* Valor crítico <span class=\"math-inline\">z\\_\\{\\\\alpha/2\\} \\= z\\_\\{0\\.005\\} \\\\approx 2\\.576</span>\n",
        "\n",
        "Error estándar de la media:\n",
        "$$ \\sigma_{\\bar{x}} \\approx 91.287 $$\n",
        "\n",
        "Margen de error:\n",
        "$$ ME = z_{\\alpha/2} \\times \\sigma_{\\bar{x}} = 2.576 \\times 91.287 \\approx 234.97 $$\n",
        "\n",
        "Intervalo de confianza del 99%:\n",
        "$$ \\bar{x} \\pm ME = 12658 \\pm 234.97 $$\n",
        "**Intervalo de confianza del 99%: ($12,423.03, $12,892.97)**\n",
        "\n",
        "\n",
        "\n",
        "\n",
        "\n",
        "**d) Describe lo que sucede con el ancho del intervalo de confianza a medida que se aumenta el nivel de confianza. ¿Parece razonable? Explica tu respuesta.**\n",
        "\n",
        "Si aumenta le nivel de confianza, el ancho del intervalo de confianza también aumenta.\n",
        "Parece razonable porque un mayor nivel de confianza implica que queremos tener una mayor certeza de que el parámetro poblacional verdadero esté contenido dentro del intervalo. Para lograr esta mayor certeza, necesitamos hacer el intervalo más amplio para abarcar mayor valores posibles."
      ],
      "metadata": {
        "id": "vIJFQuIiA4ec"
      }
    },
    {
      "cell_type": "markdown",
      "source": [
        "**Ejercicio 5**\n",
        "\n",
        "La encuesta anual de calidad de automóviles, efectuada por *J. D. Power & Associates*, determinó que la cantidad promedio de defectos, en todas las marcas, por cada vehículo nuevo es **1.07**  (*The Wall Street Journal*, 27 de enero de 1994). Suponga que se toma una muestra de **30 automóviles nuevos** de determinada marca y se obtienen las siguientes cantidades de defectos por vehículo:\n",
        "$$ 0, 1, 1, 2, 1, 0, 2, 3, 2, 1, 0, 2, 0, 0, 2, 3, 0, 4, 3, 1, 1, 1, 0, 2, 0, 2, 0, 3, 1, 0 $$\n",
        "\n",
        "**a)** ¿Cuál es el promedio muestral de la cantidad de defectos por vehículo?\n",
        "\n",
        "**b)** ¿Cuál es la desviación estándar de la muestra?\n",
        "\n",
        "**c)** Determine un intervalo de confianza del 95% para la **media de defectos** por vehículo de esta marca.\n",
        "\n",
        "**d)** Un analista sugirió que se debería **revisar una muestra mayor** antes de comparar con el promedio general de J.D. Power (1.07). ¿Respalda usted esta idea? ¿Por qué?\n"
      ],
      "metadata": {
        "id": "ZPGq5hr4A9sD"
      }
    },
    {
      "cell_type": "markdown",
      "source": [
        "**Solución Ejercicio 5**\n",
        "\n",
        "**a) ¿Cuál es el promedio muestral de la cantidad de defectos por vehículo?**\n",
        "\n",
        "Para calcular el promedio muestral ($\\bar{x}$), sumamos todos los valores de la muestra y los dividimos por el tamaño de la muestra (n=30):\n",
        "\n",
        "$$ \\bar{x} = \\frac{40}{30} = 1.33 $$\n",
        "\n",
        "**El promedio muestral de la cantidad de defectos por vehículo es 1.33.**\n",
        "\n",
        "---\n",
        "\n",
        "**b) ¿Cuál es la desviación estándar de la muestra?**\n",
        "\n",
        "Para calcular la desviación estándar de la muestr (s), primero necesitamos calcular la varianza muestral s^2):\n",
        "\n",
        "$$ s^2 = \\frac{\\sum_{i=1}^{n} (x_i - \\bar{x})^2}{n-1} $$\n",
        "\n",
        "$$ s^2 = \\frac{36.6392}{30-1} = \\frac{36.6392}{29} \\approx 1.2634 $$\n",
        "\n",
        "$$ s = \\sqrt{1.2634} \\approx 1.1240 $$\n",
        "\n",
        "**La desviación estándar de la muestra es aproximadamente 1.1240.**\n",
        "\n",
        "---\n",
        "\n",
        "**c) Determine un intervalo de confianza del 95% para la media de defectos por vehículo de esta marca.**\n",
        "\n",
        "Como la desviación estándar de la población es desconocida y el tamaño de la muestra es pequeño ($n=30$), utilizaremos la distribución t de Student con $n-1= 29$ grados de libertad. El nivel de confianza es del 95%, por lo que $\\alpha = 1 - 0.95 = 0.05$, y $\\alpha /2 = 0.025$. El valor crítico t es 2.045.\n",
        "\n",
        "El intervalo de confianza para la media poblacional ($\\mu$) es:\n",
        "$$ \\bar{x} \\pm t_{\\alpha/2, n-1} \\frac{s}{\\sqrt{n}} $$\n",
        "$$ 1.33 \\pm 2.045 \\frac{1.1240}{\\sqrt{30}} $$\n",
        "$$ 1.33 \\pm 2.045 \\frac{1.1240}{5.4772} $$\n",
        "$$ 1.33 \\pm 2.045 \\times 0.2052 $$\n",
        "$$ 1.33 \\pm 0.4196 $$\n",
        "\n",
        "**El intervalo de confianza del 95% para la media de defectos por vehículo de esta marca es (0.9104, 1.7496).**\n",
        "\n",
        "---\n",
        "\n",
        "**d) Un analista sugirió que se debería revisar una muestra mayor antes de comparar con el promedio general de J.D. Power (1.07). ¿Respalda usted esta idea? ¿Por qué?**\n",
        "Sí, respaldo la idea del analista de revisar una muestra mayor antes de comparar con el promedio general de J.D. Power (1.07) porque una mayor precisión del intervalo de confianza, una mejor aproximación a la distribución normal y una mayor poder estadístico para la comparación"
      ],
      "metadata": {
        "id": "-p-Vvs0XBAai"
      }
    },
    {
      "cell_type": "markdown",
      "source": [
        "**Ejercicio 6**\n",
        "\n",
        "Un artículo que apareció en el ejemplar de noviembre de 1983 de *Consumer Reports* comparó varios tipos de baterías.  \n",
        "Se informó que los siguientes datos provienen de una muestra de 20 baterías (en horas de duración):\n",
        "$$ [2200, 2290, 2390, 2410, 2480, 2500, 2580, 2700, 2030, 2100, 2190, 1600, 1740, 1900, 1930, 2000, 1510, 1470, 1770, 1710] $$\n",
        "Determine la media muestral, la desviación estándar muestral, y el intervalo de confianza del **90%** para la media poblacional."
      ],
      "metadata": {
        "id": "1JEDT82-BFSQ"
      }
    },
    {
      "cell_type": "markdown",
      "source": [
        "**Solución Ejercicio 6**\n",
        "\n",
        "Media muestral ($\\bar{x}$)\n",
        "$$ \\bar{x} = \\frac{\\sum_{i=1}^{n} x_i}{n} = \\frac{40970}{20} = 2048.5 $$\n",
        "\n",
        "**La media muestral es 2048.5 horas.**\n",
        "\n",
        "Desviación estándar muestral\n",
        "\n",
        "$$ s^2 = \\frac{\\sum_{i=1}^{n} (x_i - \\bar{x})^2}{n-1} = 1071885$.\n",
        "\n",
        "$$ s^2 = \\frac{1071885}{20-1} = \\frac{1071885}{19} \\approx 56415 $$\n",
        "\n",
        "La desviación estándar muestral es la raíz cuadrada de la varianza muestral:\n",
        "$$ s = \\sqrt{s^2} = \\sqrt{56415} \\approx 237.52 $$\n",
        "\n",
        "\n",
        "Determinar el intervalo de confianza del 90% para la media poblacional ($\\mu$):\n",
        "\n",
        "Dado que la desviación estándar de la población es desconocida y el tamaño de la muestra es pequeño ($n=20$), utilizaremos la distribución t de Student con $n-1 = 19$ grados de libertad. Para un nivel de confianza del 90%, $\\alpha = 1 - 0.90 = 0.10$, y $\\alpha/2 = 0.05$. El valor crítico $t_{0.05, 19} = 1.729$.\n",
        "\n",
        "El error estándar de la media es:\n",
        "$$ SE = \\frac{s}{\\sqrt{n}} = \\frac{237.52}{\\sqrt{20}} \\approx \\frac{237.52}{4.4721} \\approx 53.109 $$\n",
        "\n",
        "El margen de error es:\n",
        "$$ ME = t_{\\alpha/2, n-1} \\times SE = 1.729 \\times 53.109 \\approx 91.826 $$\n",
        "\n",
        "El intervalo de confianza del 90% para la media poblacional es:\n",
        "$$ \\bar{x} \\pm ME = 2048.5 \\pm 91.826 $$\n",
        "$$ (2048.5 - 91.826, 2048.5 + 91.826) = (1956.674, 2140.326) $$\n",
        "\n",
        "El intervalo de confianza del 90% para la media poblacional de la duración de las baterías es aproximadamente (1956.67, 2140.33) horas"
      ],
      "metadata": {
        "id": "eQ-lYDeQBTSX"
      }
    },
    {
      "cell_type": "markdown",
      "metadata": {
        "id": "DBQyaEKLGnwg"
      },
      "source": [
        "**Ejercicio 7**\n",
        "\n",
        "El toxafen es un insecticida que ha sido identificado como contaminante en el ecosistema de los Grandes Lagos.  \n",
        "Para investigar el efecto de la exposición al toxafen en animales, a grupos de ratas se les administró toxafen en su dieta.\n",
        "\n",
        "El artículo *\"Reproduction Study of Toxaphene in Rat\"* reporta **aumentos de peso (en gramos)** de ratas a las que se les administró una **dosis baja (4 ppm)** y de ratas de **control** cuya dieta no incluía el insecticida.\n",
        "\n",
        "- En el grupo **control**, una muestra de **23 ratas hembras** tuvo una media de **$\\bar{X_2} = 210$ g** y una desviación estándar de **32 g**.\n",
        "- En el grupo con **dosis baja**, una muestra de **20 ratas hembras** tuvo una media de **$\\bar{X_1} = 190$ g** y una desviación estándar de **54 g**.\n",
        "\n",
        "Encuentra un **intervalo de confianza del 90% para la diferencia de medias** poblacionales:  $\\mu_1 - \\mu_2$, donde:\n",
        "\n",
        "- $\\mu_1$ es la media poblacional de incremento de peso en el grupo con **dosis baja**.\n",
        "- $\\mu_2$ es la media poblacional de incremento de peso en el grupo **control**.\n",
        "\n",
        "¿Sugiere este intervalo que el toxafen **reduce** el incremento de peso en ratas?  \n",
        "¿Incluye el intervalo el valor 0? ¿Por qué es importante?\n"
      ]
    },
    {
      "cell_type": "markdown",
      "source": [
        "Para encontrar el intervalo de confianza para la diferencia de dos medias poblacionales ($\\mu_1 - \\mu_2$) cuando las desviaciones estándar poblacionales son desconocidas, utilizaremos una prueba t de dos muestras independientes. Dado que no se asume que las varianzas poblacionales sean iguales, utilizaremos la aproximación de Welch para los grados de libertad.\n",
        "\n",
        "Diferencia de las medias muestrales:\n",
        "$$ \\bar{X_1} - \\bar{X_2} = 190 - 210 = -20 \\text{ g} $$\n",
        "\n",
        "Error estándar de la diferencia de medias:\n",
        "$$ SE(\\bar{X_1} - \\bar{X_2}) = \\sqrt{\\frac{s_1^2}{n_1} + \\frac{s_2^2}{n_2}} = \\sqrt{\\frac{54^2}{20} + \\frac{32^2}{23}}  = \\sqrt{190.32} \\approx 13.796 $$\n",
        "\n",
        "Grados de libertad:\n",
        "$$ df \\approx \\frac{\\left( \\frac{s_1^2}{n_1} + \\frac{s_2^2}{n_2} \\right)^2}{\\frac{(s_1^2/n_1)^2}{n_1 - 1} + \\frac{(s_2^2/n_2)^2}{n_2 - 1}} = \\frac{(145.8 + 44.52)^2}{\\frac{(145.8)^2}{19} + \\frac{(44.52)^2}{22}} \\approx 30 $$\n",
        "Usaremos $df = 30$ para encontrar el valor crítico t.\n",
        "\n",
        "Valor crítico t para un intervalo de confianza del 90%:\n",
        "Para un nivel de confianza del 90%, $\\alpha = 1 - 0.90 = 0.10$, y $\\alpha/2 = 0.05$. Buscando el valor crítico $t_{0.05, 30} \\approx 1.697$.\n",
        "\n",
        "Margen de error:\n",
        "$$ ME = t_{\\alpha/2, df} \\times SE(\\bar{X_1} - \\bar{X_2}) = 1.697 \\times 13.796 \\approx 23.41 $$\n",
        "\n",
        "Intervalo de confianza del 90%:\n",
        "$$ (\\bar{X_1} - \\bar{X_2}) \\pm ME = -20 \\pm 23.41 $$\n",
        "$$ (-20 - 23.41, -20 + 23.41) = (-43.41, 3.41) $$\n",
        "\n",
        "**El intervalo de confianza del 90% para la diferencia de medias poblacionales ($\\mu_1 - \\mu_2$) es (-43.41, 3.41) gramos.**\n",
        "\n",
        "**¿Sugiere este intervalo que el toxafen reduce el incremento de peso en ratas?**\n",
        "\n",
        "El intervalo de confianza incluye valores negativos, cero y positivos. Los valores negativos para $\\mu_1 - \\mu_2$ sugieren que la media del incremento de peso en el grupo con dosis baja ($\\mu_1$) es menor que la media del incremento de peso en el grupo control ($\\mu_2$), lo que indicaría una reducción en el incremento de peso debido al toxafen. Sin embargo, el intervalo también incluye valores positivos, lo que sugiere la posibilidad de que el toxafen aumente el incremento de peso, y el valor cero, lo que sugiere que no hay diferencia significativa entre los dos grupos.\n",
        "\n",
        "¿Incluye el intervalo el valor 0?\n",
        "\n",
        "Sí, el intervalo de confianza (-43.41, 3.41) incluye el valor 0.\n",
        "\n",
        "¿Por qué es importante?\n",
        "\n",
        "El hecho de que el intervalo de confianza del 90% para la diferencia de medias poblacionales incluya el valor 0 es importante porque sugiere que, con un nivel de confianza del 90%, no podemos concluir que exista una diferencia significativa entre las medias de incremento de peso de los dos grupos. Si el valor 0 está dentro del intervalo, significa que es plausible que la verdadera diferencia entre las medias poblacionales sea cero, es decir, que el toxafen no tenga un efecto significativo en el incremento de peso de las ratas, o que el efecto no sea lo suficientemente grande como para ser detectado con el tamaño de muestra y la variabilidad observada. Para poder afirmar con un 90% de confianza que el toxafen reduce el incremento de peso, el intervalo de confianza para $\\mu_1 - \\mu_2$ debería estar completamente por debajo de cero (es decir, tener límites superior e inferior negativos). Como el límite superior del intervalo es positivo (3.41), no podemos hacer esa afirmación con este nivel de confianza."
      ],
      "metadata": {
        "id": "r3_W3ykWBZ1G"
      }
    }
  ],
  "metadata": {
    "colab": {
      "provenance": []
    },
    "kernelspec": {
      "display_name": "Python [conda env:base] *",
      "language": "python",
      "name": "conda-base-py"
    },
    "language_info": {
      "codemirror_mode": {
        "name": "ipython",
        "version": 3
      },
      "file_extension": ".py",
      "mimetype": "text/x-python",
      "name": "python",
      "nbconvert_exporter": "python",
      "pygments_lexer": "ipython3",
      "version": "3.12.7"
    }
  },
  "nbformat": 4,
  "nbformat_minor": 0
}